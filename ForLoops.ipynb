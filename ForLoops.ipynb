{
  "metadata": {
    "kernelspec": {
      "name": "python",
      "display_name": "Python (Pyodide)",
      "language": "python"
    },
    "language_info": {
      "codemirror_mode": {
        "name": "python",
        "version": 3
      },
      "file_extension": ".py",
      "mimetype": "text/x-python",
      "name": "python",
      "nbconvert_exporter": "python",
      "pygments_lexer": "ipython3",
      "version": "3.8"
    }
  },
  "nbformat_minor": 4,
  "nbformat": 4,
  "cells": [
    {
      "cell_type": "code",
      "source": "ints = [1,2,3,4,5,6,7,8,9,10]",
      "metadata": {
        "trusted": true
      },
      "outputs": [],
      "execution_count": 3
    },
    {
      "cell_type": "code",
      "source": "for num in ints:\n    print(num)",
      "metadata": {
        "trusted": true
      },
      "outputs": [
        {
          "name": "stdout",
          "text": "1\n2\n3\n4\n5\n6\n7\n8\n9\n10\n",
          "output_type": "stream"
        }
      ],
      "execution_count": 4
    },
    {
      "cell_type": "code",
      "source": "for num in ints:\n    print('yep!')",
      "metadata": {
        "trusted": true
      },
      "outputs": [
        {
          "name": "stdout",
          "text": "yep!\nyep!\nyep!\nyep!\nyep!\nyep!\nyep!\nyep!\nyep!\nyep!\n",
          "output_type": "stream"
        }
      ],
      "execution_count": 5
    },
    {
      "cell_type": "code",
      "source": "for Jelly in ints:\n    print(Jelly + Jelly)",
      "metadata": {
        "trusted": true
      },
      "outputs": [
        {
          "name": "stdout",
          "text": "2\n4\n6\n8\n10\n12\n14\n16\n18\n20\n",
          "output_type": "stream"
        }
      ],
      "execution_count": 6
    },
    {
      "cell_type": "code",
      "source": "vocal_line = ['Jin','V','JungKook','JIMIN']\nrap_line = ['SUGA','RM','jhope']",
      "metadata": {
        "trusted": true
      },
      "outputs": [],
      "execution_count": 7
    },
    {
      "cell_type": "code",
      "source": "for one in vocal_line:\n    for two in rap_line:\n        print(one, ' <3 ', two)",
      "metadata": {
        "trusted": true
      },
      "outputs": [
        {
          "name": "stdout",
          "text": "Jin  <3  SUGA\nJin  <3  RM\nJin  <3  jhope\nV  <3  SUGA\nV  <3  RM\nV  <3  jhope\nJungKook  <3  SUGA\nJungKook  <3  RM\nJungKook  <3  jhope\nJIMIN  <3  SUGA\nJIMIN  <3  RM\nJIMIN  <3  jhope\n",
          "output_type": "stream"
        }
      ],
      "execution_count": 8
    },
    {
      "cell_type": "code",
      "source": "for one in rap_line:\n    for two in vocal_line:\n        print(one, ' <3 ', two)",
      "metadata": {
        "trusted": true
      },
      "outputs": [
        {
          "name": "stdout",
          "text": "SUGA  <3  Jin\nSUGA  <3  V\nSUGA  <3  JungKook\nSUGA  <3  JIMIN\nRM  <3  Jin\nRM  <3  V\nRM  <3  JungKook\nRM  <3  JIMIN\njhope  <3  Jin\njhope  <3  V\njhope  <3  JungKook\njhope  <3  JIMIN\n",
          "output_type": "stream"
        }
      ],
      "execution_count": 9
    }
  ]
}