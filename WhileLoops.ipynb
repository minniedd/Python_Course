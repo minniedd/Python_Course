{
  "metadata": {
    "kernelspec": {
      "name": "python",
      "display_name": "Python (Pyodide)",
      "language": "python"
    },
    "language_info": {
      "codemirror_mode": {
        "name": "python",
        "version": 3
      },
      "file_extension": ".py",
      "mimetype": "text/x-python",
      "name": "python",
      "nbconvert_exporter": "python",
      "pygments_lexer": "ipython3",
      "version": "3.8"
    }
  },
  "nbformat_minor": 4,
  "nbformat": 4,
  "cells": [
    {
      "cell_type": "code",
      "source": "# while loops",
      "metadata": {
        "trusted": true
      },
      "outputs": [],
      "execution_count": 1
    },
    {
      "cell_type": "code",
      "source": "number = 0\n\nwhile number < 5:\n    print(number)\n    number = number + 1",
      "metadata": {
        "trusted": true
      },
      "outputs": [
        {
          "name": "stdout",
          "text": "0\n1\n2\n3\n4\n",
          "output_type": "stream"
        }
      ],
      "execution_count": 3
    },
    {
      "cell_type": "code",
      "source": "number = 0\n\nwhile number < 5:\n    print(number)\n    if number == 3:\n        break\n    number = number + 1",
      "metadata": {
        "trusted": true
      },
      "outputs": [
        {
          "name": "stdout",
          "text": "0\n1\n2\n3\n",
          "output_type": "stream"
        }
      ],
      "execution_count": 4
    },
    {
      "cell_type": "code",
      "source": "number = 0\n\nwhile number < 5:\n    print(number)\n    if number == 6:\n        break\n    number = number + 1\nelse:\n    print('no longer < 5')",
      "metadata": {
        "trusted": true
      },
      "outputs": [
        {
          "name": "stdout",
          "text": "0\n1\n2\n3\n4\nno longer < 5\n",
          "output_type": "stream"
        }
      ],
      "execution_count": 6
    },
    {
      "cell_type": "code",
      "source": "number = 0\n\nwhile number < 5:\n    print(number)\n    if number == 3:\n        break\n    number = number + 1\nelse:\n    print('no longer < 5')",
      "metadata": {
        "trusted": true
      },
      "outputs": [
        {
          "name": "stdout",
          "text": "0\n1\n2\n3\n",
          "output_type": "stream"
        }
      ],
      "execution_count": 7
    }
  ]
}